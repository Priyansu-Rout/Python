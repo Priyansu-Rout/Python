{
 "cells": [
  {
   "cell_type": "code",
   "execution_count": 1,
   "id": "a9476011-fea6-45d7-b348-611c9e049e85",
   "metadata": {},
   "outputs": [
    {
     "data": {
      "text/plain": [
       "array([61, 26, 61, 66, 79, 12, 82, 91, 57, 17, 27,  8, 60, 83, 42],\n",
       "      dtype=int32)"
      ]
     },
     "execution_count": 1,
     "metadata": {},
     "output_type": "execute_result"
    }
   ],
   "source": [
    "import numpy as np\n",
    "a=np.random.randint(1,100,15)\n",
    "a"
   ]
  },
  {
   "cell_type": "code",
   "execution_count": 2,
   "id": "78877207-c592-48ba-9fdd-4f5435efd2f1",
   "metadata": {},
   "outputs": [
    {
     "data": {
      "text/plain": [
       "array([[ 2, 42,  8, 42],\n",
       "       [27, 30, 62, 97],\n",
       "       [25, 41, 98, 36],\n",
       "       [80, 56, 89, 62],\n",
       "       [89,  1, 22, 13],\n",
       "       [21, 90, 10,  6]], dtype=int32)"
      ]
     },
     "execution_count": 2,
     "metadata": {},
     "output_type": "execute_result"
    }
   ],
   "source": [
    "b=np.random.randint(1,100,24).reshape(6,4)\n",
    "b"
   ]
  },
  {
   "cell_type": "markdown",
   "id": "3b61a1c7-bbd9-4976-bf34-109f0200a2e9",
   "metadata": {},
   "source": [
    "## np.sort\n",
    "* Return a sorted copy of array\n",
    "* https://numpy.org/doc/stable/reference/generated/numpy.sort.html"
   ]
  },
  {
   "cell_type": "code",
   "execution_count": 3,
   "id": "4572a40f-9e47-4159-8ca0-90cfe9b531e9",
   "metadata": {},
   "outputs": [
    {
     "data": {
      "text/plain": [
       "array([ 8, 12, 17, 26, 27, 42, 57, 60, 61, 61, 66, 79, 82, 83, 91],\n",
       "      dtype=int32)"
      ]
     },
     "execution_count": 3,
     "metadata": {},
     "output_type": "execute_result"
    }
   ],
   "source": [
    "# np.sort\n",
    "np.sort(a)"
   ]
  },
  {
   "cell_type": "code",
   "execution_count": 4,
   "id": "b97066f2-39f8-4b57-bf1a-77d4a2c7930a",
   "metadata": {},
   "outputs": [
    {
     "data": {
      "text/plain": [
       "array([91, 83, 82, 79, 66, 61, 61, 60, 57, 42, 27, 26, 17, 12,  8],\n",
       "      dtype=int32)"
      ]
     },
     "execution_count": 4,
     "metadata": {},
     "output_type": "execute_result"
    }
   ],
   "source": [
    "np.sort(a)[::-1]"
   ]
  },
  {
   "cell_type": "markdown",
   "id": "bfc5070d-12a3-4b2e-a51f-08445a8031a5",
   "metadata": {},
   "source": [
    "* Column-wise using axis=0 and row-wise using axis=1."
   ]
  },
  {
   "cell_type": "code",
   "execution_count": 5,
   "id": "5d3a506d-f84a-4f72-af72-2514e14a4341",
   "metadata": {},
   "outputs": [
    {
     "data": {
      "text/plain": [
       "array([[ 2,  1,  8,  6],\n",
       "       [21, 30, 10, 13],\n",
       "       [25, 41, 22, 36],\n",
       "       [27, 42, 62, 42],\n",
       "       [80, 56, 89, 62],\n",
       "       [89, 90, 98, 97]], dtype=int32)"
      ]
     },
     "execution_count": 5,
     "metadata": {},
     "output_type": "execute_result"
    }
   ],
   "source": [
    "np.sort(b,axis=0)"
   ]
  },
  {
   "cell_type": "markdown",
   "id": "cbb1cc41-d0fb-4605-aaee-8cc2b2f5e3cd",
   "metadata": {},
   "source": [
    "## np.append\n",
    "* Append values to the end of an array\n",
    "*  https://numpy.org/doc/stable/reference/generated/numpy.append.html"
   ]
  },
  {
   "cell_type": "code",
   "execution_count": 6,
   "id": "5d34c278-ad77-4a23-85d7-f916b8c20f66",
   "metadata": {},
   "outputs": [
    {
     "data": {
      "text/plain": [
       "array([ 61,  26,  61,  66,  79,  12,  82,  91,  57,  17,  27,   8,  60,\n",
       "        83,  42, 200])"
      ]
     },
     "execution_count": 6,
     "metadata": {},
     "output_type": "execute_result"
    }
   ],
   "source": [
    "# np.append\n",
    "np.append(a,200)"
   ]
  },
  {
   "cell_type": "code",
   "execution_count": 7,
   "id": "eb295690-479b-482c-8a2f-8d5b971042f6",
   "metadata": {},
   "outputs": [
    {
     "data": {
      "text/plain": [
       "array([[ 2, 42,  8, 42],\n",
       "       [27, 30, 62, 97],\n",
       "       [25, 41, 98, 36],\n",
       "       [80, 56, 89, 62],\n",
       "       [89,  1, 22, 13],\n",
       "       [21, 90, 10,  6]], dtype=int32)"
      ]
     },
     "execution_count": 7,
     "metadata": {},
     "output_type": "execute_result"
    }
   ],
   "source": [
    "b"
   ]
  },
  {
   "cell_type": "code",
   "execution_count": 8,
   "id": "291fadce-532d-4ef7-b8e6-d216e1e67206",
   "metadata": {},
   "outputs": [
    {
     "data": {
      "text/plain": [
       "array([ 2., 42.,  8., 42., 27., 30., 62., 97., 25., 41., 98., 36., 80.,\n",
       "       56., 89., 62., 89.,  1., 22., 13., 21., 90., 10.,  6.,  1.,  1.,\n",
       "        1.,  1.,  1.,  1.])"
      ]
     },
     "execution_count": 8,
     "metadata": {},
     "output_type": "execute_result"
    }
   ],
   "source": [
    "np.append(b,np.ones((b.shape[0],1)))"
   ]
  },
  {
   "cell_type": "code",
   "execution_count": 9,
   "id": "6817a5c1-eb3a-412b-a6ae-7d0a9d64adf3",
   "metadata": {},
   "outputs": [
    {
     "data": {
      "text/plain": [
       "array([[ 2., 42.,  8., 42.,  1.],\n",
       "       [27., 30., 62., 97.,  1.],\n",
       "       [25., 41., 98., 36.,  1.],\n",
       "       [80., 56., 89., 62.,  1.],\n",
       "       [89.,  1., 22., 13.,  1.],\n",
       "       [21., 90., 10.,  6.,  1.]])"
      ]
     },
     "execution_count": 9,
     "metadata": {},
     "output_type": "execute_result"
    }
   ],
   "source": [
    "np.append(b,np.ones((b.shape[0],1)),axis=1)"
   ]
  },
  {
   "cell_type": "markdown",
   "id": "4d272031-5fae-410e-a06b-22330153b1f7",
   "metadata": {},
   "source": [
    "## np.concatenate\n",
    "\n",
    "numpy.concatenate() function concatenate a sequence of arrays along an existing axis.\n",
    "\n",
    "https://numpy.org/doc/stable/reference/generated/numpy.concatenate.html"
   ]
  },
  {
   "cell_type": "code",
   "execution_count": 10,
   "id": "627818f2-8d39-48dd-8816-6422bb8255df",
   "metadata": {},
   "outputs": [
    {
     "name": "stdout",
     "output_type": "stream",
     "text": [
      "[[0 1 2]\n",
      " [3 4 5]]\n",
      "[[ 6  7  8]\n",
      " [ 9 10 11]]\n"
     ]
    }
   ],
   "source": [
    "# code\n",
    "c = np.arange(6).reshape(2,3)\n",
    "d = np.arange(6,12).reshape(2,3)\n",
    "\n",
    "print(c)\n",
    "print(d)"
   ]
  },
  {
   "cell_type": "code",
   "execution_count": 11,
   "id": "2af0488a-6936-453a-8296-a48bd2103df9",
   "metadata": {},
   "outputs": [
    {
     "data": {
      "text/plain": [
       "array([[ 0,  1,  2],\n",
       "       [ 3,  4,  5],\n",
       "       [ 6,  7,  8],\n",
       "       [ 9, 10, 11]])"
      ]
     },
     "execution_count": 11,
     "metadata": {},
     "output_type": "execute_result"
    }
   ],
   "source": [
    "np.concatenate((c,d),axis=0)"
   ]
  },
  {
   "cell_type": "code",
   "execution_count": 12,
   "id": "6df10176-87b4-4a81-931a-bb885a085628",
   "metadata": {},
   "outputs": [
    {
     "data": {
      "text/plain": [
       "array([[ 0,  1,  2,  6,  7,  8],\n",
       "       [ 3,  4,  5,  9, 10, 11]])"
      ]
     },
     "execution_count": 12,
     "metadata": {},
     "output_type": "execute_result"
    }
   ],
   "source": [
    "np.concatenate((c,d),axis=1)"
   ]
  },
  {
   "cell_type": "markdown",
   "id": "c9de892b-6b12-49ef-a785-879fd72c8770",
   "metadata": {},
   "source": [
    "## np.unique\n",
    "\n",
    "With the help of np.unique() method, we can get the unique values from an array given as parameter in np.unique() method.\n",
    "\n",
    "https://numpy.org/doc/stable/reference/generated/numpy.unique.html/"
   ]
  },
  {
   "cell_type": "code",
   "execution_count": 13,
   "id": "52be49d4-8e72-4a3e-a204-4f7f30b9012a",
   "metadata": {},
   "outputs": [],
   "source": [
    "# code\n",
    "e = np.array([1,1,2,2,3,3,4,4,5,5,6,6])"
   ]
  },
  {
   "cell_type": "code",
   "execution_count": 14,
   "id": "b3c04bab-5dbb-4021-b816-140aece53e59",
   "metadata": {},
   "outputs": [
    {
     "data": {
      "text/plain": [
       "array([1, 2, 3, 4, 5, 6])"
      ]
     },
     "execution_count": 14,
     "metadata": {},
     "output_type": "execute_result"
    }
   ],
   "source": [
    "np.unique(e)"
   ]
  },
  {
   "cell_type": "markdown",
   "id": "cc901824-6b66-4e36-89c8-5e895cc1d391",
   "metadata": {},
   "source": [
    "## np.expand_dims\n",
    "\n",
    "With the help of Numpy.expand_dims() method, we can get the expanded dimensions of an array\n",
    "\n",
    "https://numpy.org/doc/stable/reference/generated/numpy.expand_dims.html"
   ]
  },
  {
   "cell_type": "code",
   "execution_count": 15,
   "id": "8d99cbf1-fa64-4681-8d85-d00b4bc4edba",
   "metadata": {},
   "outputs": [
    {
     "data": {
      "text/plain": [
       "(15,)"
      ]
     },
     "execution_count": 15,
     "metadata": {},
     "output_type": "execute_result"
    }
   ],
   "source": [
    "# code\n",
    "a.shape"
   ]
  },
  {
   "cell_type": "code",
   "execution_count": 16,
   "id": "2b51946d-b2e3-4ce1-8130-203e311cbdf6",
   "metadata": {},
   "outputs": [
    {
     "data": {
      "text/plain": [
       "(1, 15)"
      ]
     },
     "execution_count": 16,
     "metadata": {},
     "output_type": "execute_result"
    }
   ],
   "source": [
    "np.expand_dims(a,axis=0).shape"
   ]
  },
  {
   "cell_type": "code",
   "execution_count": 17,
   "id": "a0a7ce79-cfc6-49f1-92b1-0f04d55f0dbf",
   "metadata": {},
   "outputs": [
    {
     "data": {
      "text/plain": [
       "array([[61],\n",
       "       [26],\n",
       "       [61],\n",
       "       [66],\n",
       "       [79],\n",
       "       [12],\n",
       "       [82],\n",
       "       [91],\n",
       "       [57],\n",
       "       [17],\n",
       "       [27],\n",
       "       [ 8],\n",
       "       [60],\n",
       "       [83],\n",
       "       [42]], dtype=int32)"
      ]
     },
     "execution_count": 17,
     "metadata": {},
     "output_type": "execute_result"
    }
   ],
   "source": [
    "np.expand_dims(a,axis=1)"
   ]
  },
  {
   "cell_type": "markdown",
   "id": "a4a6f200-bc82-49a4-93ff-b99ff37a97bf",
   "metadata": {},
   "source": [
    "## np.where\n",
    "\n",
    "The numpy.where() function returns the indices of elements in an input array where the given condition is satisfied.\n",
    "\n",
    "https://numpy.org/doc/stable/reference/generated/numpy.where.html"
   ]
  },
  {
   "cell_type": "code",
   "execution_count": 18,
   "id": "bb5c072f-9df6-4eb4-a0f4-9547534fbc84",
   "metadata": {},
   "outputs": [
    {
     "data": {
      "text/plain": [
       "array([61, 26, 61, 66, 79, 12, 82, 91, 57, 17, 27,  8, 60, 83, 42],\n",
       "      dtype=int32)"
      ]
     },
     "execution_count": 18,
     "metadata": {},
     "output_type": "execute_result"
    }
   ],
   "source": [
    "a"
   ]
  },
  {
   "cell_type": "code",
   "execution_count": 19,
   "id": "8160befc-a314-4aaa-bdef-2385c6e092a4",
   "metadata": {},
   "outputs": [
    {
     "data": {
      "text/plain": [
       "(array([ 0,  2,  3,  4,  6,  7,  8, 12, 13]),)"
      ]
     },
     "execution_count": 19,
     "metadata": {},
     "output_type": "execute_result"
    }
   ],
   "source": [
    "# find all indices with value greater than 50\n",
    "np.where(a>50)"
   ]
  },
  {
   "cell_type": "code",
   "execution_count": 20,
   "id": "e3ccf204-2930-4c82-9470-9d5d06f548fa",
   "metadata": {},
   "outputs": [
    {
     "data": {
      "text/plain": [
       "(array([ 0,  2,  3,  4,  6,  7,  8, 12, 13]),)"
      ]
     },
     "execution_count": 20,
     "metadata": {},
     "output_type": "execute_result"
    }
   ],
   "source": [
    "# find all indices with value greater than 50\n",
    "np.where(a>50)"
   ]
  },
  {
   "cell_type": "code",
   "execution_count": 21,
   "id": "163f5f48-6a52-4075-ac67-202b192e5c70",
   "metadata": {},
   "outputs": [
    {
     "data": {
      "text/plain": [
       "array([ 0, 26,  0,  0,  0, 12,  0,  0,  0, 17, 27,  8,  0,  0, 42],\n",
       "      dtype=int32)"
      ]
     },
     "execution_count": 21,
     "metadata": {},
     "output_type": "execute_result"
    }
   ],
   "source": [
    "# replace all values > 50 with 0\n",
    "np.where(a>50,0,a)"
   ]
  },
  {
   "cell_type": "code",
   "execution_count": 22,
   "id": "f79ea089-4f95-4092-8d26-7ae229bf1696",
   "metadata": {},
   "outputs": [
    {
     "data": {
      "text/plain": [
       "array([61,  0, 61,  0, 79,  0,  0, 91, 57, 17, 27,  0,  0, 83,  0],\n",
       "      dtype=int32)"
      ]
     },
     "execution_count": 22,
     "metadata": {},
     "output_type": "execute_result"
    }
   ],
   "source": [
    "np.where(a%2 == 0,0,a)"
   ]
  },
  {
   "cell_type": "markdown",
   "id": "4c862d6e-4af4-471f-ab29-272272ce3750",
   "metadata": {},
   "source": [
    "## np.argmax\n",
    "\n",
    "The numpy.argmax() function returns indices of the max element of the array in a particular axis.\n",
    "\n",
    "https://numpy.org/doc/stable/reference/generated/numpy.argmax.html"
   ]
  },
  {
   "cell_type": "code",
   "execution_count": 23,
   "id": "4d2e3b09-541a-4f86-9057-65260a3cbf86",
   "metadata": {},
   "outputs": [
    {
     "data": {
      "text/plain": [
       "array([61, 26, 61, 66, 79, 12, 82, 91, 57, 17, 27,  8, 60, 83, 42],\n",
       "      dtype=int32)"
      ]
     },
     "execution_count": 23,
     "metadata": {},
     "output_type": "execute_result"
    }
   ],
   "source": [
    "# code \n",
    "a"
   ]
  },
  {
   "cell_type": "code",
   "execution_count": 24,
   "id": "b08a4a6e-c0db-430d-a277-5672559514f3",
   "metadata": {},
   "outputs": [
    {
     "data": {
      "text/plain": [
       "np.int64(7)"
      ]
     },
     "execution_count": 24,
     "metadata": {},
     "output_type": "execute_result"
    }
   ],
   "source": [
    "np.argmax(a)"
   ]
  },
  {
   "cell_type": "code",
   "execution_count": 25,
   "id": "fb92e535-839b-4f7f-bb84-0c68b254557f",
   "metadata": {},
   "outputs": [
    {
     "data": {
      "text/plain": [
       "array([[ 2, 42,  8, 42],\n",
       "       [27, 30, 62, 97],\n",
       "       [25, 41, 98, 36],\n",
       "       [80, 56, 89, 62],\n",
       "       [89,  1, 22, 13],\n",
       "       [21, 90, 10,  6]], dtype=int32)"
      ]
     },
     "execution_count": 25,
     "metadata": {},
     "output_type": "execute_result"
    }
   ],
   "source": [
    "b"
   ]
  },
  {
   "cell_type": "code",
   "execution_count": 26,
   "id": "74115f69-e5f1-47a2-84f5-2942ddd2e7a9",
   "metadata": {},
   "outputs": [
    {
     "data": {
      "text/plain": [
       "array([4, 5, 2, 1])"
      ]
     },
     "execution_count": 26,
     "metadata": {},
     "output_type": "execute_result"
    }
   ],
   "source": [
    "np.argmax(b,axis=0)"
   ]
  },
  {
   "cell_type": "code",
   "execution_count": 27,
   "id": "0e3d4f75-cdb6-4a2b-9e39-067697b26710",
   "metadata": {},
   "outputs": [
    {
     "data": {
      "text/plain": [
       "array([1, 3, 2, 2, 0, 1])"
      ]
     },
     "execution_count": 27,
     "metadata": {},
     "output_type": "execute_result"
    }
   ],
   "source": [
    "np.argmax(b,axis=1)"
   ]
  },
  {
   "cell_type": "code",
   "execution_count": 28,
   "id": "83288040-ab17-4282-b557-5c84a2cf58f6",
   "metadata": {},
   "outputs": [
    {
     "data": {
      "text/plain": [
       "np.int64(11)"
      ]
     },
     "execution_count": 28,
     "metadata": {},
     "output_type": "execute_result"
    }
   ],
   "source": [
    "# np.argmin\n",
    "np.argmin(a)"
   ]
  },
  {
   "cell_type": "markdown",
   "id": "61b3fb60-e55c-4886-9080-5aa0aca655f5",
   "metadata": {},
   "source": [
    "## np.cumsum\n",
    "\n",
    "numpy.cumsum() function is used when we want to compute the cumulative sum of array elements over a given axis.\n",
    "\n",
    "https://numpy.org/doc/stable/reference/generated/numpy.cumsum.html"
   ]
  },
  {
   "cell_type": "code",
   "execution_count": 29,
   "id": "c7a21217-bf7f-42bd-86f8-3416974bb588",
   "metadata": {},
   "outputs": [
    {
     "data": {
      "text/plain": [
       "array([61, 26, 61, 66, 79, 12, 82, 91, 57, 17, 27,  8, 60, 83, 42],\n",
       "      dtype=int32)"
      ]
     },
     "execution_count": 29,
     "metadata": {},
     "output_type": "execute_result"
    }
   ],
   "source": [
    "a"
   ]
  },
  {
   "cell_type": "code",
   "execution_count": 30,
   "id": "b52061b4-1913-43b8-a177-b72dcc67bfe0",
   "metadata": {},
   "outputs": [
    {
     "data": {
      "text/plain": [
       "array([ 61,  87, 148, 214, 293, 305, 387, 478, 535, 552, 579, 587, 647,\n",
       "       730, 772])"
      ]
     },
     "execution_count": 30,
     "metadata": {},
     "output_type": "execute_result"
    }
   ],
   "source": [
    "np.cumsum(a)"
   ]
  },
  {
   "cell_type": "code",
   "execution_count": 31,
   "id": "3da0c32f-d01e-43c4-bc56-1705b4fdde9d",
   "metadata": {},
   "outputs": [
    {
     "data": {
      "text/plain": [
       "array([[ 2, 42,  8, 42],\n",
       "       [27, 30, 62, 97],\n",
       "       [25, 41, 98, 36],\n",
       "       [80, 56, 89, 62],\n",
       "       [89,  1, 22, 13],\n",
       "       [21, 90, 10,  6]], dtype=int32)"
      ]
     },
     "execution_count": 31,
     "metadata": {},
     "output_type": "execute_result"
    }
   ],
   "source": [
    "b"
   ]
  },
  {
   "cell_type": "code",
   "execution_count": 32,
   "id": "28b29134-7a31-48da-8a11-15be68f6228b",
   "metadata": {},
   "outputs": [
    {
     "data": {
      "text/plain": [
       "array([   2,   44,   52,   94,  121,  151,  213,  310,  335,  376,  474,\n",
       "        510,  590,  646,  735,  797,  886,  887,  909,  922,  943, 1033,\n",
       "       1043, 1049])"
      ]
     },
     "execution_count": 32,
     "metadata": {},
     "output_type": "execute_result"
    }
   ],
   "source": [
    "np.cumsum(b)"
   ]
  },
  {
   "cell_type": "code",
   "execution_count": 33,
   "id": "9c1aa193-0284-46c9-8fa8-a058582de8d2",
   "metadata": {},
   "outputs": [
    {
     "data": {
      "text/plain": [
       "array([[  2,  42,   8,  42],\n",
       "       [ 29,  72,  70, 139],\n",
       "       [ 54, 113, 168, 175],\n",
       "       [134, 169, 257, 237],\n",
       "       [223, 170, 279, 250],\n",
       "       [244, 260, 289, 256]])"
      ]
     },
     "execution_count": 33,
     "metadata": {},
     "output_type": "execute_result"
    }
   ],
   "source": [
    "np.cumsum(b,axis=0)"
   ]
  },
  {
   "cell_type": "code",
   "execution_count": 34,
   "id": "e207c89c-602c-4d20-86cf-fe3c7aea8c14",
   "metadata": {},
   "outputs": [
    {
     "data": {
      "text/plain": [
       "array([                  61,                 1586,                96746,\n",
       "                    6385236,            504433644,           6053203728,\n",
       "               496362705696,       45169006218336,     2574633354445152,\n",
       "          43768767025567584,  1181756709690324768, -8992690396186953472,\n",
       "       -4605845633640211456,  5096437955763033088, -7310534742467229696])"
      ]
     },
     "execution_count": 34,
     "metadata": {},
     "output_type": "execute_result"
    }
   ],
   "source": [
    "# np.cumprod\n",
    "np.cumprod(a)"
   ]
  },
  {
   "cell_type": "markdown",
   "id": "87cf8332-7ddf-4ccd-8f68-94b7ae9d9586",
   "metadata": {},
   "source": [
    "## np.percentile\n",
    "\n",
    "numpy.percentile()function used to compute the nth percentile of the given data (array elements) along the specified axis. \n",
    "\n",
    "https://numpy.org/doc/stable/reference/generated/numpy.percentile.html"
   ]
  },
  {
   "cell_type": "code",
   "execution_count": 35,
   "id": "58bc009d-00be-4387-b0ce-c1e3fd7b56ae",
   "metadata": {},
   "outputs": [
    {
     "data": {
      "text/plain": [
       "array([61, 26, 61, 66, 79, 12, 82, 91, 57, 17, 27,  8, 60, 83, 42],\n",
       "      dtype=int32)"
      ]
     },
     "execution_count": 35,
     "metadata": {},
     "output_type": "execute_result"
    }
   ],
   "source": [
    "a"
   ]
  },
  {
   "cell_type": "code",
   "execution_count": 36,
   "id": "d52c9c93-96e8-4b69-bc63-35cdcf1a005e",
   "metadata": {},
   "outputs": [
    {
     "data": {
      "text/plain": [
       "np.float64(91.0)"
      ]
     },
     "execution_count": 36,
     "metadata": {},
     "output_type": "execute_result"
    }
   ],
   "source": [
    "np.percentile(a,100)"
   ]
  },
  {
   "cell_type": "code",
   "execution_count": 38,
   "id": "9162aa30-358e-424e-8180-b0462fa52502",
   "metadata": {},
   "outputs": [
    {
     "data": {
      "text/plain": [
       "np.float64(60.0)"
      ]
     },
     "execution_count": 38,
     "metadata": {},
     "output_type": "execute_result"
    }
   ],
   "source": [
    "np.percentile(a,50)"
   ]
  },
  {
   "cell_type": "markdown",
   "id": "860d77c1-a091-43d9-a564-e22f13b1643d",
   "metadata": {},
   "source": [
    "## np.histogram\n",
    "\n",
    "Numpy has a built-in numpy.histogram() function which represents the frequency of data distribution in the graphical form.\n",
    "\n",
    "https://numpy.org/doc/stable/reference/generated/numpy.histogram.html"
   ]
  },
  {
   "cell_type": "code",
   "execution_count": 39,
   "id": "a8d6e8ef-5031-4af6-b057-c33f4c02a9aa",
   "metadata": {},
   "outputs": [
    {
     "data": {
      "text/plain": [
       "array([61, 26, 61, 66, 79, 12, 82, 91, 57, 17, 27,  8, 60, 83, 42],\n",
       "      dtype=int32)"
      ]
     },
     "execution_count": 39,
     "metadata": {},
     "output_type": "execute_result"
    }
   ],
   "source": [
    "a"
   ]
  },
  {
   "cell_type": "code",
   "execution_count": 41,
   "id": "a493b5ce-16ad-4645-93aa-f8a206213448",
   "metadata": {},
   "outputs": [
    {
     "data": {
      "text/plain": [
       "(array([1, 2, 2, 0, 1, 1, 4, 1, 2, 1]),\n",
       " array([  0,  10,  20,  30,  40,  50,  60,  70,  80,  90, 100]))"
      ]
     },
     "execution_count": 41,
     "metadata": {},
     "output_type": "execute_result"
    }
   ],
   "source": [
    "np.histogram(a,bins=[0,10,20,30,40,50,60,70,80,90,100])"
   ]
  },
  {
   "cell_type": "code",
   "execution_count": 42,
   "id": "0f893dca-1f0f-4f69-b8fa-efc9cd04fb19",
   "metadata": {},
   "outputs": [
    {
     "data": {
      "text/plain": [
       "(array([6, 9]), array([  0,  50, 100]))"
      ]
     },
     "execution_count": 42,
     "metadata": {},
     "output_type": "execute_result"
    }
   ],
   "source": [
    "np.histogram(a,bins=[0,50,100])"
   ]
  },
  {
   "cell_type": "markdown",
   "id": "272a29e5-e627-42f1-b084-fd5ba5e33599",
   "metadata": {},
   "source": [
    "## np.corrcoef\n",
    "\n",
    "Return Pearson product-moment correlation coefficients.\n",
    "\n",
    "https://numpy.org/doc/stable/reference/generated/numpy.corrcoef.html"
   ]
  },
  {
   "cell_type": "code",
   "execution_count": 43,
   "id": "f9c52e3e-8fe9-46b7-8d4d-bd97ef9269b4",
   "metadata": {},
   "outputs": [
    {
     "data": {
      "text/plain": [
       "array([[1.        , 0.25344572],\n",
       "       [0.25344572, 1.        ]])"
      ]
     },
     "execution_count": 43,
     "metadata": {},
     "output_type": "execute_result"
    }
   ],
   "source": [
    "salary = np.array([20000,40000,25000,35000,60000])\n",
    "experience = np.array([1,3,2,4,2])\n",
    "\n",
    "np.corrcoef(salary,experience)"
   ]
  },
  {
   "cell_type": "markdown",
   "id": "1e98aa5b-cec6-425b-9b86-60655f17d329",
   "metadata": {},
   "source": [
    "## np.isin\n",
    "\n",
    "With the help of numpy.isin() method, we can see that one array having values are checked in a different numpy array having different elements with different sizes.\n",
    "\n",
    "https://numpy.org/doc/stable/reference/generated/numpy.isin.html"
   ]
  },
  {
   "cell_type": "code",
   "execution_count": 44,
   "id": "0bc1fa76-bc36-4246-8635-a73cc0385e70",
   "metadata": {},
   "outputs": [
    {
     "data": {
      "text/plain": [
       "array([61, 26, 61, 66, 79, 12, 82, 91, 57, 17, 27,  8, 60, 83, 42],\n",
       "      dtype=int32)"
      ]
     },
     "execution_count": 44,
     "metadata": {},
     "output_type": "execute_result"
    }
   ],
   "source": [
    "a"
   ]
  },
  {
   "cell_type": "code",
   "execution_count": 46,
   "id": "50ec0950-2dd2-4e61-b794-cdc3768b0c50",
   "metadata": {},
   "outputs": [
    {
     "data": {
      "text/plain": [
       "array([False, False, False, False, False, False, False, False, False,\n",
       "       False, False, False,  True, False, False])"
      ]
     },
     "execution_count": 46,
     "metadata": {},
     "output_type": "execute_result"
    }
   ],
   "source": [
    "item=[10,20,30,40,50,60,70,80,90,]\n",
    "\n",
    "np.isin(a,item)"
   ]
  },
  {
   "cell_type": "code",
   "execution_count": 47,
   "id": "8e18ac24-22d2-4621-8ac3-7cf58c2fc275",
   "metadata": {},
   "outputs": [
    {
     "data": {
      "text/plain": [
       "array([60], dtype=int32)"
      ]
     },
     "execution_count": 47,
     "metadata": {},
     "output_type": "execute_result"
    }
   ],
   "source": [
    "a[np.isin(a,item)]"
   ]
  },
  {
   "cell_type": "markdown",
   "id": "8c55045c-5c8d-4af7-ad04-30e4ea365dd0",
   "metadata": {},
   "source": [
    "## np.flip\n",
    "\n",
    "The numpy.flip() function reverses the order of array elements along the specified axis, preserving the shape of the array.\n",
    "\n",
    "https://numpy.org/doc/stable/reference/generated/numpy.flip.html"
   ]
  },
  {
   "cell_type": "code",
   "execution_count": 48,
   "id": "b0cb4711-b649-4064-afef-d03b40983766",
   "metadata": {},
   "outputs": [
    {
     "data": {
      "text/plain": [
       "array([61, 26, 61, 66, 79, 12, 82, 91, 57, 17, 27,  8, 60, 83, 42],\n",
       "      dtype=int32)"
      ]
     },
     "execution_count": 48,
     "metadata": {},
     "output_type": "execute_result"
    }
   ],
   "source": [
    "a"
   ]
  },
  {
   "cell_type": "code",
   "execution_count": 49,
   "id": "a7d2e9c4-dacf-45f7-8c65-ff110777e701",
   "metadata": {},
   "outputs": [
    {
     "data": {
      "text/plain": [
       "array([42, 83, 60,  8, 27, 17, 57, 91, 82, 12, 79, 66, 61, 26, 61],\n",
       "      dtype=int32)"
      ]
     },
     "execution_count": 49,
     "metadata": {},
     "output_type": "execute_result"
    }
   ],
   "source": [
    "np.flip(a)"
   ]
  },
  {
   "cell_type": "code",
   "execution_count": 50,
   "id": "40b6d9ed-0d9f-4692-a339-eced01a3bb5a",
   "metadata": {},
   "outputs": [
    {
     "data": {
      "text/plain": [
       "array([[ 2, 42,  8, 42],\n",
       "       [27, 30, 62, 97],\n",
       "       [25, 41, 98, 36],\n",
       "       [80, 56, 89, 62],\n",
       "       [89,  1, 22, 13],\n",
       "       [21, 90, 10,  6]], dtype=int32)"
      ]
     },
     "execution_count": 50,
     "metadata": {},
     "output_type": "execute_result"
    }
   ],
   "source": [
    "b"
   ]
  },
  {
   "cell_type": "code",
   "execution_count": 53,
   "id": "ecd586c9-f9e4-46db-971e-2b317d1848e0",
   "metadata": {},
   "outputs": [
    {
     "data": {
      "text/plain": [
       "array([[ 6, 10, 90, 21],\n",
       "       [13, 22,  1, 89],\n",
       "       [62, 89, 56, 80],\n",
       "       [36, 98, 41, 25],\n",
       "       [97, 62, 30, 27],\n",
       "       [42,  8, 42,  2]], dtype=int32)"
      ]
     },
     "execution_count": 53,
     "metadata": {},
     "output_type": "execute_result"
    }
   ],
   "source": [
    "np.flip(b) # hear occur both row and columns flip"
   ]
  },
  {
   "cell_type": "code",
   "execution_count": 55,
   "id": "369e4fdd-9f36-4887-8c68-0037e45ebf93",
   "metadata": {},
   "outputs": [
    {
     "data": {
      "text/plain": [
       "array([[21, 90, 10,  6],\n",
       "       [89,  1, 22, 13],\n",
       "       [80, 56, 89, 62],\n",
       "       [25, 41, 98, 36],\n",
       "       [27, 30, 62, 97],\n",
       "       [ 2, 42,  8, 42]], dtype=int32)"
      ]
     },
     "execution_count": 55,
     "metadata": {},
     "output_type": "execute_result"
    }
   ],
   "source": [
    "np.flip(b,axis=0) # here occurs only column flip"
   ]
  },
  {
   "cell_type": "markdown",
   "id": "4e114326-337a-401a-9787-9778523df3eb",
   "metadata": {},
   "source": [
    "## np.put\n",
    "\n",
    "The numpy.put() function replaces specific elements of an array with given values of p_array. Array indexed works on flattened array. \n",
    "\n",
    "https://numpy.org/doc/stable/reference/generated/numpy.put.html"
   ]
  },
  {
   "cell_type": "code",
   "execution_count": 56,
   "id": "cba9789d-384b-489c-ba53-164c66c08351",
   "metadata": {},
   "outputs": [
    {
     "data": {
      "text/plain": [
       "array([61, 26, 61, 66, 79, 12, 82, 91, 57, 17, 27,  8, 60, 83, 42],\n",
       "      dtype=int32)"
      ]
     },
     "execution_count": 56,
     "metadata": {},
     "output_type": "execute_result"
    }
   ],
   "source": [
    "a"
   ]
  },
  {
   "cell_type": "code",
   "execution_count": 57,
   "id": "da04a428-3b98-41de-910e-ef403ab2298a",
   "metadata": {},
   "outputs": [],
   "source": [
    "np.put(a,[0,1],[10,11]) # here occur permanent change"
   ]
  },
  {
   "cell_type": "code",
   "execution_count": 58,
   "id": "c089ebff-c09a-4244-b052-5f1fa6670f07",
   "metadata": {},
   "outputs": [
    {
     "data": {
      "text/plain": [
       "array([10, 11, 61, 66, 79, 12, 82, 91, 57, 17, 27,  8, 60, 83, 42],\n",
       "      dtype=int32)"
      ]
     },
     "execution_count": 58,
     "metadata": {},
     "output_type": "execute_result"
    }
   ],
   "source": [
    "a"
   ]
  },
  {
   "cell_type": "markdown",
   "id": "ab7df172-31f0-45c4-b60f-86b47ce921ea",
   "metadata": {},
   "source": [
    "## np.delete\n",
    "\n",
    "The numpy.delete() function returns a new array with the deletion of sub-arrays along with the mentioned axis. \n",
    "\n",
    "https://numpy.org/doc/stable/reference/generated/numpy.delete.html"
   ]
  },
  {
   "cell_type": "code",
   "execution_count": 59,
   "id": "add96316-966e-47a1-b16e-1aeb1aa187df",
   "metadata": {},
   "outputs": [
    {
     "data": {
      "text/plain": [
       "array([10, 11, 61, 66, 79, 12, 82, 91, 57, 17, 27,  8, 60, 83, 42],\n",
       "      dtype=int32)"
      ]
     },
     "execution_count": 59,
     "metadata": {},
     "output_type": "execute_result"
    }
   ],
   "source": [
    "a"
   ]
  },
  {
   "cell_type": "code",
   "execution_count": 61,
   "id": "1f469f9a-e900-4636-b766-b52acff86bf3",
   "metadata": {},
   "outputs": [
    {
     "data": {
      "text/plain": [
       "array([11, 61, 66, 79, 12, 82, 91, 57, 17, 27,  8, 60, 83, 42],\n",
       "      dtype=int32)"
      ]
     },
     "execution_count": 61,
     "metadata": {},
     "output_type": "execute_result"
    }
   ],
   "source": [
    "np.delete(a,0) # (list ,index)"
   ]
  },
  {
   "cell_type": "code",
   "execution_count": 62,
   "id": "af6ede1c-eccd-4ef0-bfc4-ba56e69c28bb",
   "metadata": {},
   "outputs": [
    {
     "data": {
      "text/plain": [
       "array([11, 66, 12, 82, 91, 57, 17, 27,  8, 60, 83, 42], dtype=int32)"
      ]
     },
     "execution_count": 62,
     "metadata": {},
     "output_type": "execute_result"
    }
   ],
   "source": [
    "np.delete(a,[0,2,4])"
   ]
  },
  {
   "cell_type": "markdown",
   "id": "2750156c-957b-4e48-bd98-77e979303692",
   "metadata": {},
   "source": [
    "## Set functions\n",
    "\n",
    "- np.union1d\n",
    "- np.intersect1d\n",
    "- np.setdiff1d\n",
    "- np.setxor1d\n",
    "- np.in1d\n"
   ]
  },
  {
   "cell_type": "code",
   "execution_count": 63,
   "id": "2ca1baaf-9616-48e4-8ac1-a01da08cd0a8",
   "metadata": {},
   "outputs": [
    {
     "data": {
      "text/plain": [
       "array([1, 2, 3, 4, 5, 6, 7])"
      ]
     },
     "execution_count": 63,
     "metadata": {},
     "output_type": "execute_result"
    }
   ],
   "source": [
    "m = np.array([1,2,3,4,5])\n",
    "n = np.array([3,4,5,6,7])\n",
    "\n",
    "np.union1d(m,n)"
   ]
  },
  {
   "cell_type": "code",
   "execution_count": 64,
   "id": "15724450-c07a-449d-9e26-0eb120c85399",
   "metadata": {},
   "outputs": [
    {
     "data": {
      "text/plain": [
       "array([3, 4, 5])"
      ]
     },
     "execution_count": 64,
     "metadata": {},
     "output_type": "execute_result"
    }
   ],
   "source": [
    "np.intersect1d(m,n)"
   ]
  },
  {
   "cell_type": "code",
   "execution_count": 65,
   "id": "7d9467a5-2f48-48a6-a365-60cd1f55d526",
   "metadata": {},
   "outputs": [
    {
     "data": {
      "text/plain": [
       "array([6, 7])"
      ]
     },
     "execution_count": 65,
     "metadata": {},
     "output_type": "execute_result"
    }
   ],
   "source": [
    "np.setdiff1d(n,m)"
   ]
  },
  {
   "cell_type": "code",
   "execution_count": 66,
   "id": "461ae18f-8007-44ec-b3f3-305bab31754c",
   "metadata": {},
   "outputs": [
    {
     "data": {
      "text/plain": [
       "array([1, 2, 6, 7])"
      ]
     },
     "execution_count": 66,
     "metadata": {},
     "output_type": "execute_result"
    }
   ],
   "source": [
    "np.setxor1d(m,n)"
   ]
  },
  {
   "cell_type": "code",
   "execution_count": 67,
   "id": "79650804-2ac9-4593-b410-f167e99a6594",
   "metadata": {},
   "outputs": [
    {
     "name": "stderr",
     "output_type": "stream",
     "text": [
      "C:\\Users\\Priyansu rout\\AppData\\Local\\Temp\\ipykernel_4396\\1121211304.py:1: DeprecationWarning: `in1d` is deprecated. Use `np.isin` instead.\n",
      "  m[np.in1d(m,2)]\n"
     ]
    },
    {
     "data": {
      "text/plain": [
       "array([2])"
      ]
     },
     "execution_count": 67,
     "metadata": {},
     "output_type": "execute_result"
    }
   ],
   "source": [
    "m[np.in1d(m,2)]"
   ]
  },
  {
   "cell_type": "markdown",
   "id": "c0aa3f66-97b4-439f-a6f1-4d9aa40294aa",
   "metadata": {},
   "source": [
    "## np.clip\n",
    "\n",
    "numpy.clip() function is used to Clip (limit) the values in an array.\n",
    "\n",
    "https://numpy.org/doc/stable/reference/generated/numpy.clip.html"
   ]
  },
  {
   "cell_type": "code",
   "execution_count": 68,
   "id": "f6587282-b47e-426e-9943-e3423a5b0daf",
   "metadata": {},
   "outputs": [
    {
     "data": {
      "text/plain": [
       "array([10, 11, 61, 66, 79, 12, 82, 91, 57, 17, 27,  8, 60, 83, 42],\n",
       "      dtype=int32)"
      ]
     },
     "execution_count": 68,
     "metadata": {},
     "output_type": "execute_result"
    }
   ],
   "source": [
    "a"
   ]
  },
  {
   "cell_type": "code",
   "execution_count": 69,
   "id": "129bd123-dc1d-460e-980a-814904d44fa7",
   "metadata": {},
   "outputs": [
    {
     "data": {
      "text/plain": [
       "array([25, 25, 60, 60, 60, 25, 60, 60, 57, 25, 27, 25, 60, 60, 42],\n",
       "      dtype=int32)"
      ]
     },
     "execution_count": 69,
     "metadata": {},
     "output_type": "execute_result"
    }
   ],
   "source": [
    "np.clip(a,a_min=25,a_max=60)"
   ]
  },
  {
   "cell_type": "markdown",
   "id": "5803f2e2-f7e0-4065-b72d-7b27cf415862",
   "metadata": {},
   "source": [
    "the value which is less than 25 it convert into 25 and the value which is greater than 60 it c "
   ]
  }
 ],
 "metadata": {
  "kernelspec": {
   "display_name": "Python 3 (ipykernel)",
   "language": "python",
   "name": "python3"
  },
  "language_info": {
   "codemirror_mode": {
    "name": "ipython",
    "version": 3
   },
   "file_extension": ".py",
   "mimetype": "text/x-python",
   "name": "python",
   "nbconvert_exporter": "python",
   "pygments_lexer": "ipython3",
   "version": "3.13.1"
  }
 },
 "nbformat": 4,
 "nbformat_minor": 5
}
